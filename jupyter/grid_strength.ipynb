{
 "cells": [
  {
   "cell_type": "code",
   "execution_count": 1,
   "metadata": {},
   "outputs": [],
   "source": [
    "import numpy as np\n",
    "import pandas as pd\n",
    "import gc\n",
    "import seaborn as sns\n",
    "import xgboost as xgb\n",
    "import lightgbm as lgb\n",
    "import math\n",
    "import lightgbm as lgb\n",
    "from collections import Counter  \n",
    "import time\n",
    "from scipy.stats import kurtosis,iqr\n",
    "import seaborn as sns\n",
    "from scipy import ptp\n",
    "from tqdm import tqdm\n",
    "from datetime import timedelta\n",
    "import datetime\n",
    "from sklearn.metrics import accuracy_score, roc_auc_score,log_loss,f1_score\n",
    "from sklearn.model_selection import KFold,StratifiedKFold\n",
    "from sklearn.preprocessing import LabelEncoder\n",
    "from sklearn.model_selection import KFold\n",
    "import matplotlib.pyplot as plt\n",
    "from datetime import datetime,timedelta\n",
    "from sklearn.preprocessing import MinMaxScaler\n",
    "import warnings\n",
    "import os\n",
    "from sklearn.utils import shuffle\n",
    "from sklearn.externals import joblib\n",
    "from mpl_toolkits.mplot3d import Axes3D\n",
    "pd.options.display.max_columns = None\n",
    "pd.options.display.max_rows = None\n",
    "import warnings\n",
    "warnings.filterwarnings('ignore')"
   ]
  },
  {
   "cell_type": "markdown",
   "metadata": {},
   "source": [
    "## 专门用来处理网格强度数据"
   ]
  },
  {
   "cell_type": "code",
   "execution_count": 2,
   "metadata": {},
   "outputs": [
    {
     "data": {
      "text/plain": [
       "(997, 8)"
      ]
     },
     "execution_count": 2,
     "metadata": {},
     "output_type": "execute_result"
    }
   ],
   "source": [
    "### 北京市重点区域信息\n",
    "cols = ['id', 'area_name', 'area_type', 'Center_x', 'Center_y', 'Grid_x', 'Grid_y', 'area']\n",
    "area_passenger_info = pd.read_csv('/home/poac/AnomalyDetectionDataset/Block_predict/area_passenger_info.csv', names=cols)\n",
    "area_passenger_info.shape"
   ]
  },
  {
   "cell_type": "code",
   "execution_count": 5,
   "metadata": {},
   "outputs": [
    {
     "data": {
      "text/plain": [
       "(20, 6)"
      ]
     },
     "execution_count": 5,
     "metadata": {},
     "output_type": "execute_result"
    }
   ],
   "source": [
    "### 将网格联系强度添加至表格中\n",
    "### 在每个时刻，计算某一区域与其他所有区域的网格联系强度之和（in），然后减去该区域去往其他区域的网格联系强度之和（out）\n",
    "cols = ['hour', 'start_grid_x', 'start_grid_y', 'end_grid_x', 'end_grid_y', 'index']\n",
    "grid_strength = pd.read_csv('/home/poac/AnomalyDetectionDataset/Block_predict/datafountain_competition_od.txt', names=cols, encoding='gb2312', sep='\\t')\n",
    "grid_strength.shape"
   ]
  },
  {
   "cell_type": "code",
   "execution_count": 6,
   "metadata": {},
   "outputs": [],
   "source": [
    "### 根据每个网格中心点与重点区域的距离，给每条网格联系强度打上id，以便后续处理\n",
    "def add_id_to_grid(df, area_passenger_info):\n",
    "    start_id = np.zeros((df.shape[0], 1))-999\n",
    "    start_id = pd.DataFrame(start_id)\n",
    "    start_id.columns = ['start_id']\n",
    "    \n",
    "    end_id = np.zeros((df.shape[0], 1))-999\n",
    "    end_id = pd.DataFrame(end_id)\n",
    "    end_id.columns = ['end_id']\n",
    "    \n",
    "    area_passenger_info['dis'] = 0\n",
    "    \n",
    "    for index, row in tqdm(df.iterrows()):\n",
    "        if (start_id.iloc[index]['start_id']==-999):\n",
    "            ### 遍历找出最近的出发地区\n",
    "            ### 批量计算距离\n",
    "            area_passenger_info['dis'] = (row['start_grid_x']-area_passenger_info['Grid_x'])**2 + (row['start_grid_y']-area_passenger_info['Grid_y'])**2\n",
    "            ### 找出最小距离\n",
    "            min_dis = area_passenger_info['dis'].min()\n",
    "            ### 将最小距离对应的id赋给start_id\n",
    "            start_id.iloc[index]['start_id'] = area_passenger_info[area_passenger_info['dis']==min_dis]['id'].values[0]\n",
    "            ### 以出发地坐标为依据，给所有同地段的数据打上相同id\n",
    "            start_id[(df['start_grid_x']==row['start_grid_x']) & (df['start_grid_y']==row['start_grid_y'])]['start_id'] = start_id.iloc[index]['start_id']\n",
    "    \n",
    "    for index, row in tqdm(df.iterrows()):\n",
    "        if (end_id.iloc[index]['end_id']==-999):\n",
    "            ### 遍历找出最近的出发地区\n",
    "            ### 批量计算距离\n",
    "            area_passenger_info['dis'] = (row['end_grid_x']-area_passenger_info['Grid_x'])**2 + (row['end_grid_y']-area_passenger_info['Grid_y'])**2\n",
    "            ### 找出最小距离\n",
    "            min_dis = area_passenger_info['dis'].min()\n",
    "            ### 将最小距离对应的id赋给start_id\n",
    "            end_id.iloc[index]['end_id'] = area_passenger_info[area_passenger_info['dis']==min_dis]['id'].values[0]\n",
    "            ### 以出发地坐标为依据，给所有同地段的数据打上相同id\n",
    "            end_id[(df['end_grid_x']==row['end_grid_x']) & (df['end_grid_y']==row['end_grid_y'])]['end_id'] = end_id.iloc[index]['end_id']\n",
    "            \n",
    "            \n",
    "            \n",
    "    ### 合并\n",
    "    df = pd.concat([df, start_id], axis=1)\n",
    "    df = pd.concat([df, end_id], axis=1)\n",
    "\n",
    "    return df"
   ]
  },
  {
   "cell_type": "code",
   "execution_count": 7,
   "metadata": {},
   "outputs": [
    {
     "name": "stderr",
     "output_type": "stream",
     "text": [
      "20it [00:00, 21.12it/s]\n",
      "20it [00:00, 21.63it/s]\n"
     ]
    }
   ],
   "source": [
    "grid_strength = add_id_to_grid(df=grid_strength, area_passenger_info=area_passenger_info)"
   ]
  },
  {
   "cell_type": "code",
   "execution_count": 8,
   "metadata": {},
   "outputs": [],
   "source": [
    "### 保存到本地\n",
    "grid_strength.to_csv('/home/poac/AnomalyDetectionDataset/Block_predict/processed/grid_strength_processed.csv', index=None)"
   ]
  },
  {
   "cell_type": "code",
   "execution_count": null,
   "metadata": {},
   "outputs": [],
   "source": []
  }
 ],
 "metadata": {
  "kernelspec": {
   "display_name": "Python 3",
   "language": "python",
   "name": "python3"
  },
  "language_info": {
   "codemirror_mode": {
    "name": "ipython",
    "version": 3
   },
   "file_extension": ".py",
   "mimetype": "text/x-python",
   "name": "python",
   "nbconvert_exporter": "python",
   "pygments_lexer": "ipython3",
   "version": "3.6.9"
  }
 },
 "nbformat": 4,
 "nbformat_minor": 2
}
